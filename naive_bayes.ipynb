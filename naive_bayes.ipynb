{
 "cells": [
  {
   "cell_type": "code",
   "execution_count": 1,
   "id": "e81e2577",
   "metadata": {},
   "outputs": [],
   "source": [
    "import pandas as pd\n",
    "from sklearn.preprocessing import LabelEncoder\n",
    "from sklearn.naive_bayes import GaussianNB\n",
    "from sklearn.metrics import accuracy_score\n",
    "\n"
   ]
  },
  {
   "cell_type": "code",
   "execution_count": 2,
   "id": "922cc459",
   "metadata": {},
   "outputs": [],
   "source": [
    "# Load the training and test data\n",
    "train_data = pd.read_csv('train.csv')\n",
    "test_data = pd.read_csv('test.csv')\n",
    "\n",
    "# Encode the 'Gender' column in both training and test data\n",
    "label_encoder = LabelEncoder()\n",
    "train_data['Gender'] = label_encoder.fit_transform(train_data['Gender'])\n",
    "test_data['Gender'] = label_encoder.transform(test_data['Gender'])\n",
    "\n",
    "# Define column names\n",
    "column_names = ['Gender', 'Age', 'openness', 'neuroticism', 'conscientiousness', 'agreeableness', 'extraversion', 'Personality (class label)']\n",
    "\n",
    "# Assign column names to both datasets\n",
    "train_data.columns = column_names\n",
    "test_data.columns = column_names\n",
    "\n"
   ]
  },
  {
   "cell_type": "code",
   "execution_count": 3,
   "id": "cd4263d5",
   "metadata": {},
   "outputs": [
    {
     "name": "stdout",
     "output_type": "stream",
     "text": [
      "0.4888888888888889\n"
     ]
    }
   ],
   "source": [
    "# Split features and target variables\n",
    "x_train = train_data.drop('Personality (class label)', axis=1)\n",
    "y_train = train_data['Personality (class label)']\n",
    "\n",
    "x_test = test_data.drop('Personality (class label)', axis=1)\n",
    "y_test = test_data['Personality (class label)']\n",
    "\n",
    "# Initialize Gaussian Naive Bayes classifier\n",
    "naive_bayes_classifier = GaussianNB()\n",
    "\n",
    "# Train the classifier\n",
    "naive_bayes_classifier.fit(x_train, y_train)\n",
    "\n",
    "# Predict on the test data\n",
    "predicted_labels = naive_bayes_classifier.predict(x_test)\n",
    "\n",
    "# Calculate accuracy\n",
    "accuracy = accuracy_score(y_test, predicted_labels)\n",
    "print(accuracy)\n"
   ]
  },
  {
   "cell_type": "code",
   "execution_count": 5,
   "id": "32c341c5",
   "metadata": {},
   "outputs": [
    {
     "name": "stdout",
     "output_type": "stream",
     "text": [
      "Precision: 0.5249687023230637\n",
      "Recall: 0.4888888888888889\n",
      "F1 Score: 0.485835911577437\n"
     ]
    }
   ],
   "source": [
    "from sklearn.metrics import precision_score, recall_score, f1_score\n",
    "\n",
    "# Calculate precision\n",
    "precision = precision_score(y_test, predicted_labels, average='weighted')  \n",
    "print(\"Precision:\", precision)\n",
    "\n",
    "# Calculate recall\n",
    "recall = recall_score(y_test, predicted_labels, average='weighted')  \n",
    "print(\"Recall:\", recall)\n",
    "\n",
    "# Calculate F1 score\n",
    "f1 = f1_score(y_test, predicted_labels, average='weighted')  \n",
    "print(\"F1 Score:\", f1)\n"
   ]
  },
  {
   "cell_type": "code",
   "execution_count": null,
   "id": "b2c39e6a",
   "metadata": {},
   "outputs": [],
   "source": []
  }
 ],
 "metadata": {
  "kernelspec": {
   "display_name": "Python 3 (ipykernel)",
   "language": "python",
   "name": "python3"
  },
  "language_info": {
   "codemirror_mode": {
    "name": "ipython",
    "version": 3
   },
   "file_extension": ".py",
   "mimetype": "text/x-python",
   "name": "python",
   "nbconvert_exporter": "python",
   "pygments_lexer": "ipython3",
   "version": "3.11.5"
  }
 },
 "nbformat": 4,
 "nbformat_minor": 5
}
