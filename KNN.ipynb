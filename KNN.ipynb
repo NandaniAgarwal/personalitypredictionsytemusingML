{
 "cells": [
  {
   "cell_type": "code",
   "execution_count": 1,
   "id": "46f96f6b",
   "metadata": {},
   "outputs": [],
   "source": [
    "from sklearn.neighbors import KNeighborsClassifier\n",
    "from sklearn.model_selection import GridSearchCV\n",
    "import pandas as pd\n",
    "from sklearn.preprocessing import LabelEncoder\n",
    "from sklearn.metrics import accuracy_score\n",
    "\n"
   ]
  },
  {
   "cell_type": "code",
   "execution_count": 2,
   "id": "7bf855d1",
   "metadata": {},
   "outputs": [],
   "source": [
    "# Define the KNN classifier\n",
    "classifier = KNeighborsClassifier()\n",
    "\n",
    "# Define the parameters for grid search\n",
    "parameters = {\n",
    "    'n_neighbors': [3, 5, 7, 9],  # Number of neighbors to consider\n",
    "    'weights': ['uniform', 'distance'],  # Weighting scheme for neighbors\n",
    "    'metric': ['euclidean', 'manhattan']  # Distance metric\n",
    "}\n",
    "\n",
    "# Initialize GridSearchCV\n",
    "classifier_knn = GridSearchCV(classifier, param_grid=parameters, scoring='accuracy', cv=5)\n",
    "\n",
    "# Load the training and test data\n",
    "train_data = pd.read_csv('train.csv')\n",
    "test_data = pd.read_csv('test.csv')\n",
    "\n",
    "# Encode the 'Gender' column in both training and test data\n",
    "label_encoder = LabelEncoder()\n",
    "train_data['Gender'] = label_encoder.fit_transform(train_data['Gender'])\n",
    "test_data['Gender'] = label_encoder.transform(test_data['Gender'])\n",
    "\n",
    "# Define column names\n",
    "column_names = ['Gender', 'Age', 'openness', 'neuroticism', 'conscientiousness', 'agreeableness', 'extraversion', 'Personality (class label)']\n",
    "\n",
    "# Assign column names to both datasets\n",
    "train_data.columns = column_names\n",
    "test_data.columns = column_names\n",
    "\n"
   ]
  },
  {
   "cell_type": "code",
   "execution_count": 3,
   "id": "3364e639",
   "metadata": {},
   "outputs": [],
   "source": [
    "# Split features and target variables\n",
    "x_train = train_data.drop('Personality (class label)', axis=1)\n",
    "y_train = train_data['Personality (class label)']\n",
    "\n",
    "x_test = test_data.drop('Personality (class label)', axis=1)\n",
    "y_test = test_data['Personality (class label)']\n",
    "\n",
    "# Fit the KNN classifier\n",
    "classifier_knn.fit(x_train, y_train)\n",
    "\n",
    "# Predict on the test data\n",
    "y_pred = classifier_knn.predict(x_test)\n",
    "\n"
   ]
  },
  {
   "cell_type": "code",
   "execution_count": 4,
   "id": "2d78354e",
   "metadata": {},
   "outputs": [
    {
     "name": "stdout",
     "output_type": "stream",
     "text": [
      "Accuracy: 0.2634920634920635\n"
     ]
    }
   ],
   "source": [
    "# Calculate accuracy\n",
    "score = accuracy_score(y_pred, y_test)\n",
    "print(\"Accuracy:\", score)\n"
   ]
  },
  {
   "cell_type": "code",
   "execution_count": 5,
   "id": "8b1a8d71",
   "metadata": {},
   "outputs": [
    {
     "name": "stdout",
     "output_type": "stream",
     "text": [
      "Precision: 0.3376037429639673\n",
      "Recall: 0.2634920634920635\n",
      "F1 Score: 0.27967510951482727\n"
     ]
    }
   ],
   "source": [
    "from sklearn.metrics import precision_score, recall_score, f1_score\n",
    "\n",
    "# Calculate precision\n",
    "precision = precision_score(y_test, y_pred, average='weighted')  \n",
    "print(\"Precision:\", precision)\n",
    "\n",
    "# Calculate recall\n",
    "recall = recall_score(y_test, y_pred, average='weighted')  \n",
    "print(\"Recall:\", recall)\n",
    "\n",
    "# Calculate F1 score\n",
    "f1 = f1_score(y_test, y_pred, average='weighted')  \n",
    "print(\"F1 Score:\", f1)\n"
   ]
  },
  {
   "cell_type": "code",
   "execution_count": null,
   "id": "9f24e719",
   "metadata": {},
   "outputs": [],
   "source": []
  }
 ],
 "metadata": {
  "kernelspec": {
   "display_name": "Python 3 (ipykernel)",
   "language": "python",
   "name": "python3"
  },
  "language_info": {
   "codemirror_mode": {
    "name": "ipython",
    "version": 3
   },
   "file_extension": ".py",
   "mimetype": "text/x-python",
   "name": "python",
   "nbconvert_exporter": "python",
   "pygments_lexer": "ipython3",
   "version": "3.11.5"
  }
 },
 "nbformat": 4,
 "nbformat_minor": 5
}
