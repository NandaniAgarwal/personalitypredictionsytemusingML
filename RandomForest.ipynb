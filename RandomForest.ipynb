{
 "cells": [
  {
   "cell_type": "code",
   "execution_count": 1,
   "id": "c22d89da",
   "metadata": {},
   "outputs": [],
   "source": [
    "from sklearn.ensemble import RandomForestClassifier\n",
    "from sklearn.model_selection import GridSearchCV\n",
    "import pandas as pd\n",
    "from sklearn.preprocessing import LabelEncoder\n",
    "from sklearn.metrics import accuracy_score\n",
    "\n"
   ]
  },
  {
   "cell_type": "code",
   "execution_count": 2,
   "id": "3d1a92d6",
   "metadata": {},
   "outputs": [],
   "source": [
    "# Define the Random Forest classifier\n",
    "classifier = RandomForestClassifier()\n",
    "\n",
    "# Define the parameters for grid search\n",
    "parameters = {\n",
    "    'n_estimators': [100, 200, 300],\n",
    "    'max_depth': [None, 10, 20, 30],\n",
    "    'min_samples_split': [2, 5, 10],\n",
    "    'min_samples_leaf': [1, 2, 4]\n",
    "}\n",
    "\n",
    "# Initialize GridSearchCV\n",
    "classifier_rf = GridSearchCV(classifier, param_grid=parameters, scoring='accuracy', cv=5)\n",
    "\n",
    "# Load the training and test data\n",
    "train_data = pd.read_csv('train.csv')\n",
    "test_data = pd.read_csv('test.csv')\n",
    "\n",
    "# Encode the 'Gender' column in both training and test data\n",
    "label_encoder = LabelEncoder()\n",
    "train_data['Gender'] = label_encoder.fit_transform(train_data['Gender'])\n",
    "test_data['Gender'] = label_encoder.transform(test_data['Gender'])\n",
    "\n",
    "# Define column names\n",
    "column_names = ['Gender', 'Age', 'openness', 'neuroticism', 'conscientiousness', 'agreeableness', 'extraversion', 'Personality (class label)']\n",
    "\n",
    "# Assign column names to both datasets\n",
    "train_data.columns = column_names\n",
    "test_data.columns = column_names\n",
    "\n"
   ]
  },
  {
   "cell_type": "code",
   "execution_count": 3,
   "id": "bf5f8a6a",
   "metadata": {},
   "outputs": [],
   "source": [
    "# Split features and target variables\n",
    "x_train = train_data.drop('Personality (class label)', axis=1)\n",
    "y_train = train_data['Personality (class label)']\n",
    "\n",
    "x_test = test_data.drop('Personality (class label)', axis=1)\n",
    "y_test = test_data['Personality (class label)']\n",
    "\n"
   ]
  },
  {
   "cell_type": "code",
   "execution_count": 4,
   "id": "07294096",
   "metadata": {},
   "outputs": [],
   "source": [
    "# Fit the Random Forest classifier\n",
    "classifier_rf.fit(x_train, y_train)\n",
    "\n",
    "# Predict on the test data\n",
    "y_pred = classifier_rf.predict(x_test)\n"
   ]
  },
  {
   "cell_type": "code",
   "execution_count": 5,
   "id": "2b5c7ba6",
   "metadata": {},
   "outputs": [
    {
     "name": "stdout",
     "output_type": "stream",
     "text": [
      "Accuracy: 0.3238095238095238\n"
     ]
    }
   ],
   "source": [
    "# Calculate accuracy\n",
    "score = accuracy_score(y_pred, y_test)\n",
    "print(\"Accuracy:\", score)\n"
   ]
  },
  {
   "cell_type": "code",
   "execution_count": 6,
   "id": "723fa39d",
   "metadata": {},
   "outputs": [
    {
     "name": "stdout",
     "output_type": "stream",
     "text": [
      "Precision: 0.3896534531041568\n",
      "Recall: 0.3238095238095238\n",
      "F1 Score: 0.3442811561289491\n"
     ]
    }
   ],
   "source": [
    "from sklearn.metrics import precision_score, recall_score, f1_score\n",
    "\n",
    "# Calculate precision\n",
    "precision = precision_score(y_test, y_pred, average='weighted')  \n",
    "print(\"Precision:\", precision)\n",
    "\n",
    "# Calculate recall\n",
    "recall = recall_score(y_test, y_pred, average='weighted')  \n",
    "print(\"Recall:\", recall)\n",
    "\n",
    "# Calculate F1 score\n",
    "f1 = f1_score(y_test, y_pred, average='weighted')  \n",
    "print(\"F1 Score:\", f1)\n"
   ]
  },
  {
   "cell_type": "code",
   "execution_count": null,
   "id": "1d4f13e7",
   "metadata": {},
   "outputs": [],
   "source": []
  }
 ],
 "metadata": {
  "kernelspec": {
   "display_name": "Python 3 (ipykernel)",
   "language": "python",
   "name": "python3"
  },
  "language_info": {
   "codemirror_mode": {
    "name": "ipython",
    "version": 3
   },
   "file_extension": ".py",
   "mimetype": "text/x-python",
   "name": "python",
   "nbconvert_exporter": "python",
   "pygments_lexer": "ipython3",
   "version": "3.11.5"
  }
 },
 "nbformat": 4,
 "nbformat_minor": 5
}
