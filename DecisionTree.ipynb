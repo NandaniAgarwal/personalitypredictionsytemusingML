{
 "cells": [
  {
   "cell_type": "code",
   "execution_count": 1,
   "id": "ee586b89",
   "metadata": {},
   "outputs": [],
   "source": [
    "from sklearn.tree import DecisionTreeClassifier\n",
    "from sklearn.model_selection import GridSearchCV\n",
    "import pandas as pd\n",
    "from sklearn.preprocessing import LabelEncoder\n",
    "from sklearn.metrics import accuracy_score\n",
    "\n"
   ]
  },
  {
   "cell_type": "code",
   "execution_count": 2,
   "id": "4a27a2c9",
   "metadata": {},
   "outputs": [],
   "source": [
    "# Define the Decision Tree classifier\n",
    "classifier = DecisionTreeClassifier()\n",
    "\n",
    "# Define the parameters for grid search\n",
    "parameters = {\n",
    "    'criterion': ['gini', 'entropy'],  # Criterion for splitting\n",
    "    'max_depth': [None, 10, 20, 30, 40],  # Maximum depth of the tree\n",
    "    'min_samples_split': [2, 5, 10],  # Minimum number of samples required to split a node\n",
    "    'min_samples_leaf': [1, 2, 4]  # Minimum number of samples required at each leaf node\n",
    "}\n",
    "\n",
    "# Initialize GridSearchCV\n",
    "classifier_dt = GridSearchCV(classifier, param_grid=parameters, scoring='accuracy', cv=5)\n",
    "\n",
    "# Load the training and test data\n",
    "train_data = pd.read_csv('train.csv')\n",
    "test_data = pd.read_csv('test.csv')\n",
    "\n",
    "# Encode the 'Gender' column in both training and test data\n",
    "label_encoder = LabelEncoder()\n",
    "train_data['Gender'] = label_encoder.fit_transform(train_data['Gender'])\n",
    "test_data['Gender'] = label_encoder.transform(test_data['Gender'])\n",
    "\n",
    "# Define column names\n",
    "column_names = ['Gender', 'Age', 'openness', 'neuroticism', 'conscientiousness', 'agreeableness', 'extraversion', 'Personality (class label)']\n",
    "\n",
    "# Assign column names to both datasets\n",
    "train_data.columns = column_names\n",
    "test_data.columns = column_names\n",
    "\n"
   ]
  },
  {
   "cell_type": "code",
   "execution_count": 3,
   "id": "86dffd84",
   "metadata": {},
   "outputs": [],
   "source": [
    "# Split features and target variables\n",
    "x_train = train_data.drop('Personality (class label)', axis=1)\n",
    "y_train = train_data['Personality (class label)']\n",
    "\n",
    "x_test = test_data.drop('Personality (class label)', axis=1)\n",
    "y_test = test_data['Personality (class label)']\n",
    "\n"
   ]
  },
  {
   "cell_type": "code",
   "execution_count": 4,
   "id": "809098f7",
   "metadata": {},
   "outputs": [],
   "source": [
    "# Fit the Decision Tree classifier\n",
    "classifier_dt.fit(x_train, y_train)\n",
    "\n",
    "# Predict on the test data\n",
    "y_pred = classifier_dt.predict(x_test)\n"
   ]
  },
  {
   "cell_type": "code",
   "execution_count": 5,
   "id": "56fb4b4c",
   "metadata": {},
   "outputs": [
    {
     "name": "stdout",
     "output_type": "stream",
     "text": [
      "Accuracy: 0.24761904761904763\n"
     ]
    }
   ],
   "source": [
    "\n",
    "# Calculate accuracy\n",
    "score = accuracy_score(y_pred, y_test)\n",
    "print(\"Accuracy:\", score)\n"
   ]
  },
  {
   "cell_type": "code",
   "execution_count": 6,
   "id": "89d99e11",
   "metadata": {},
   "outputs": [
    {
     "name": "stdout",
     "output_type": "stream",
     "text": [
      "Precision: 0.3471224235838357\n",
      "Recall: 0.24761904761904763\n",
      "F1 Score: 0.2681666134153557\n"
     ]
    }
   ],
   "source": [
    "from sklearn.metrics import precision_score, recall_score, f1_score\n",
    "\n",
    "# Calculate precision\n",
    "precision = precision_score(y_test, y_pred, average='weighted')  \n",
    "print(\"Precision:\", precision)\n",
    "\n",
    "# Calculate recall\n",
    "recall = recall_score(y_test, y_pred, average='weighted')  \n",
    "print(\"Recall:\", recall)\n",
    "\n",
    "# Calculate F1 score\n",
    "f1 = f1_score(y_test, y_pred, average='weighted')  \n",
    "print(\"F1 Score:\", f1)\n"
   ]
  },
  {
   "cell_type": "code",
   "execution_count": null,
   "id": "3a6deab7",
   "metadata": {},
   "outputs": [],
   "source": []
  }
 ],
 "metadata": {
  "kernelspec": {
   "display_name": "Python 3 (ipykernel)",
   "language": "python",
   "name": "python3"
  },
  "language_info": {
   "codemirror_mode": {
    "name": "ipython",
    "version": 3
   },
   "file_extension": ".py",
   "mimetype": "text/x-python",
   "name": "python",
   "nbconvert_exporter": "python",
   "pygments_lexer": "ipython3",
   "version": "3.11.5"
  }
 },
 "nbformat": 4,
 "nbformat_minor": 5
}
